{
  "nbformat": 4,
  "nbformat_minor": 0,
  "metadata": {
    "colab": {
      "name": "AML_DataPreprocessing_BestSeller.ipynb",
      "provenance": []
    },
    "kernelspec": {
      "name": "python3",
      "display_name": "Python 3"
    }
  },
  "cells": [
    {
      "cell_type": "code",
      "metadata": {
        "colab": {
          "base_uri": "https://localhost:8080/"
        },
        "id": "KdSdZpQrY362",
        "outputId": "d3b49801-c339-48e9-9f57-144e30be08db"
      },
      "source": [
        "# Mount Google Drive folder \n",
        "from google.colab import drive\n",
        "drive.mount('/content/drive')"
      ],
      "execution_count": null,
      "outputs": [
        {
          "output_type": "stream",
          "text": [
            "Mounted at /content/drive\n"
          ],
          "name": "stdout"
        }
      ]
    },
    {
      "cell_type": "code",
      "metadata": {
        "id": "rHzb2-ZfUf-U"
      },
      "source": [
        "#importing libraries\n",
        "\n",
        "import numpy as np\n",
        "import matplotlib.pyplot as plt\n",
        "import pandas as pd\n",
        "import os"
      ],
      "execution_count": null,
      "outputs": []
    },
    {
      "cell_type": "code",
      "metadata": {
        "colab": {
          "base_uri": "https://localhost:8080/",
          "height": 677
        },
        "id": "Z05Mr8DDXDcu",
        "outputId": "7088e7d4-7a6a-466c-d266-dac6ec05a5a8"
      },
      "source": [
        "#importing the data set\n",
        "\n",
        "DIR = '/content/drive/MyDrive/Colab Notebooks/AML_LAB/DataPreprocessing/'\n",
        "FILENAME = 'bestsellers.csv'\n",
        "os.chdir(DIR)\n",
        "dataset = pd.read_csv(DIR + FILENAME)\n",
        "dataset.head(20)"
      ],
      "execution_count": null,
      "outputs": [
        {
          "output_type": "execute_result",
          "data": {
            "text/html": [
              "<div>\n",
              "<style scoped>\n",
              "    .dataframe tbody tr th:only-of-type {\n",
              "        vertical-align: middle;\n",
              "    }\n",
              "\n",
              "    .dataframe tbody tr th {\n",
              "        vertical-align: top;\n",
              "    }\n",
              "\n",
              "    .dataframe thead th {\n",
              "        text-align: right;\n",
              "    }\n",
              "</style>\n",
              "<table border=\"1\" class=\"dataframe\">\n",
              "  <thead>\n",
              "    <tr style=\"text-align: right;\">\n",
              "      <th></th>\n",
              "      <th>Name</th>\n",
              "      <th>Author</th>\n",
              "      <th>User Rating</th>\n",
              "      <th>Reviews</th>\n",
              "      <th>Price</th>\n",
              "      <th>Year</th>\n",
              "      <th>Genre</th>\n",
              "    </tr>\n",
              "  </thead>\n",
              "  <tbody>\n",
              "    <tr>\n",
              "      <th>0</th>\n",
              "      <td>10-Day Green Smoothie Cleanse</td>\n",
              "      <td>JJ Smith</td>\n",
              "      <td>4.7</td>\n",
              "      <td>17350.0</td>\n",
              "      <td>8.0</td>\n",
              "      <td>2016</td>\n",
              "      <td>Non Fiction</td>\n",
              "    </tr>\n",
              "    <tr>\n",
              "      <th>1</th>\n",
              "      <td>11/22/63: A Novel</td>\n",
              "      <td>Stephen King</td>\n",
              "      <td>4.6</td>\n",
              "      <td>2052.0</td>\n",
              "      <td>22.0</td>\n",
              "      <td>2011</td>\n",
              "      <td>Fiction</td>\n",
              "    </tr>\n",
              "    <tr>\n",
              "      <th>2</th>\n",
              "      <td>12 Rules for Life: An Antidote to Chaos</td>\n",
              "      <td>Jordan B. Peterson</td>\n",
              "      <td>4.7</td>\n",
              "      <td>18979.0</td>\n",
              "      <td>15.0</td>\n",
              "      <td>2018</td>\n",
              "      <td>Non Fiction</td>\n",
              "    </tr>\n",
              "    <tr>\n",
              "      <th>3</th>\n",
              "      <td>1984 (Signet Classics)</td>\n",
              "      <td>George Orwell</td>\n",
              "      <td>4.7</td>\n",
              "      <td>21424.0</td>\n",
              "      <td>6.0</td>\n",
              "      <td>2017</td>\n",
              "      <td>Fiction</td>\n",
              "    </tr>\n",
              "    <tr>\n",
              "      <th>4</th>\n",
              "      <td>5,000 Awesome Facts (About Everything!) (Natio...</td>\n",
              "      <td>National Geographic Kids</td>\n",
              "      <td>4.8</td>\n",
              "      <td>7665.0</td>\n",
              "      <td>12.0</td>\n",
              "      <td>2019</td>\n",
              "      <td>Non Fiction</td>\n",
              "    </tr>\n",
              "    <tr>\n",
              "      <th>5</th>\n",
              "      <td>A Dance with Dragons (A Song of Ice and Fire)</td>\n",
              "      <td>George R. R. Martin</td>\n",
              "      <td>4.4</td>\n",
              "      <td>12643.0</td>\n",
              "      <td>11.0</td>\n",
              "      <td>2011</td>\n",
              "      <td>Fiction</td>\n",
              "    </tr>\n",
              "    <tr>\n",
              "      <th>6</th>\n",
              "      <td>A Game of Thrones / A Clash of Kings / A Storm...</td>\n",
              "      <td>George R. R. Martin</td>\n",
              "      <td>4.7</td>\n",
              "      <td>19735.0</td>\n",
              "      <td>30.0</td>\n",
              "      <td>2014</td>\n",
              "      <td>Fiction</td>\n",
              "    </tr>\n",
              "    <tr>\n",
              "      <th>7</th>\n",
              "      <td>A Gentleman in Moscow: A Novel</td>\n",
              "      <td>Amor Towles</td>\n",
              "      <td>4.7</td>\n",
              "      <td>19699.0</td>\n",
              "      <td>15.0</td>\n",
              "      <td>2017</td>\n",
              "      <td>Fiction</td>\n",
              "    </tr>\n",
              "    <tr>\n",
              "      <th>8</th>\n",
              "      <td>A Higher Loyalty: Truth, Lies, and Leadership</td>\n",
              "      <td>James Comey</td>\n",
              "      <td>NaN</td>\n",
              "      <td>5983.0</td>\n",
              "      <td>3.0</td>\n",
              "      <td>2018</td>\n",
              "      <td>Non Fiction</td>\n",
              "    </tr>\n",
              "    <tr>\n",
              "      <th>9</th>\n",
              "      <td>A Man Called Ove: A Novel</td>\n",
              "      <td>Fredrik Backman</td>\n",
              "      <td>4.6</td>\n",
              "      <td>23848.0</td>\n",
              "      <td>8.0</td>\n",
              "      <td>2016</td>\n",
              "      <td>Fiction</td>\n",
              "    </tr>\n",
              "    <tr>\n",
              "      <th>10</th>\n",
              "      <td>A Man Called Ove: A Novel</td>\n",
              "      <td>Fredrik Backman</td>\n",
              "      <td>4.6</td>\n",
              "      <td>23848.0</td>\n",
              "      <td>8.0</td>\n",
              "      <td>2017</td>\n",
              "      <td>Fiction</td>\n",
              "    </tr>\n",
              "    <tr>\n",
              "      <th>11</th>\n",
              "      <td>A Patriot's History of the United States: From...</td>\n",
              "      <td>Larry Schweikart</td>\n",
              "      <td>4.6</td>\n",
              "      <td>460.0</td>\n",
              "      <td>2.0</td>\n",
              "      <td>2010</td>\n",
              "      <td>Non Fiction</td>\n",
              "    </tr>\n",
              "    <tr>\n",
              "      <th>12</th>\n",
              "      <td>A Stolen Life: A Memoir</td>\n",
              "      <td>Jaycee Dugard</td>\n",
              "      <td>4.6</td>\n",
              "      <td>4149.0</td>\n",
              "      <td>32.0</td>\n",
              "      <td>2011</td>\n",
              "      <td>Non Fiction</td>\n",
              "    </tr>\n",
              "    <tr>\n",
              "      <th>13</th>\n",
              "      <td>A Wrinkle in Time (Time Quintet)</td>\n",
              "      <td>Madeleine L'Engle</td>\n",
              "      <td>4.5</td>\n",
              "      <td>5153.0</td>\n",
              "      <td>5.0</td>\n",
              "      <td>2018</td>\n",
              "      <td>Fiction</td>\n",
              "    </tr>\n",
              "    <tr>\n",
              "      <th>14</th>\n",
              "      <td>Act Like a Lady, Think Like a Man: What Men Re...</td>\n",
              "      <td>Steve Harvey</td>\n",
              "      <td>4.6</td>\n",
              "      <td>5013.0</td>\n",
              "      <td>17.0</td>\n",
              "      <td>2009</td>\n",
              "      <td>Non Fiction</td>\n",
              "    </tr>\n",
              "    <tr>\n",
              "      <th>15</th>\n",
              "      <td>Adult Coloring Book Designs: Stress Relief Col...</td>\n",
              "      <td>Adult Coloring Book Designs</td>\n",
              "      <td>4.5</td>\n",
              "      <td>2313.0</td>\n",
              "      <td>4.0</td>\n",
              "      <td>2016</td>\n",
              "      <td>Non Fiction</td>\n",
              "    </tr>\n",
              "    <tr>\n",
              "      <th>16</th>\n",
              "      <td>Adult Coloring Book: Stress Relieving Animal D...</td>\n",
              "      <td>Blue Star Coloring</td>\n",
              "      <td>4.6</td>\n",
              "      <td>2925.0</td>\n",
              "      <td>6.0</td>\n",
              "      <td>2015</td>\n",
              "      <td>Non Fiction</td>\n",
              "    </tr>\n",
              "    <tr>\n",
              "      <th>17</th>\n",
              "      <td>Adult Coloring Book: Stress Relieving Patterns</td>\n",
              "      <td>Blue Star Coloring</td>\n",
              "      <td>4.4</td>\n",
              "      <td>2951.0</td>\n",
              "      <td>6.0</td>\n",
              "      <td>2015</td>\n",
              "      <td>Non Fiction</td>\n",
              "    </tr>\n",
              "    <tr>\n",
              "      <th>18</th>\n",
              "      <td>Adult Coloring Books: A Coloring Book for Adul...</td>\n",
              "      <td>Coloring Books for Adults</td>\n",
              "      <td>4.5</td>\n",
              "      <td>2426.0</td>\n",
              "      <td>8.0</td>\n",
              "      <td>2015</td>\n",
              "      <td>Non Fiction</td>\n",
              "    </tr>\n",
              "    <tr>\n",
              "      <th>19</th>\n",
              "      <td>Alexander Hamilton</td>\n",
              "      <td>Ron Chernow</td>\n",
              "      <td>4.8</td>\n",
              "      <td>9198.0</td>\n",
              "      <td>13.0</td>\n",
              "      <td>2016</td>\n",
              "      <td>Non Fiction</td>\n",
              "    </tr>\n",
              "  </tbody>\n",
              "</table>\n",
              "</div>"
            ],
            "text/plain": [
              "                                                 Name  ...        Genre\n",
              "0                       10-Day Green Smoothie Cleanse  ...  Non Fiction\n",
              "1                                   11/22/63: A Novel  ...      Fiction\n",
              "2             12 Rules for Life: An Antidote to Chaos  ...  Non Fiction\n",
              "3                              1984 (Signet Classics)  ...      Fiction\n",
              "4   5,000 Awesome Facts (About Everything!) (Natio...  ...  Non Fiction\n",
              "5       A Dance with Dragons (A Song of Ice and Fire)  ...      Fiction\n",
              "6   A Game of Thrones / A Clash of Kings / A Storm...  ...      Fiction\n",
              "7                      A Gentleman in Moscow: A Novel  ...      Fiction\n",
              "8       A Higher Loyalty: Truth, Lies, and Leadership  ...  Non Fiction\n",
              "9                           A Man Called Ove: A Novel  ...      Fiction\n",
              "10                          A Man Called Ove: A Novel  ...      Fiction\n",
              "11  A Patriot's History of the United States: From...  ...  Non Fiction\n",
              "12                            A Stolen Life: A Memoir  ...  Non Fiction\n",
              "13                   A Wrinkle in Time (Time Quintet)  ...      Fiction\n",
              "14  Act Like a Lady, Think Like a Man: What Men Re...  ...  Non Fiction\n",
              "15  Adult Coloring Book Designs: Stress Relief Col...  ...  Non Fiction\n",
              "16  Adult Coloring Book: Stress Relieving Animal D...  ...  Non Fiction\n",
              "17     Adult Coloring Book: Stress Relieving Patterns  ...  Non Fiction\n",
              "18  Adult Coloring Books: A Coloring Book for Adul...  ...  Non Fiction\n",
              "19                                 Alexander Hamilton  ...  Non Fiction\n",
              "\n",
              "[20 rows x 7 columns]"
            ]
          },
          "metadata": {
            "tags": []
          },
          "execution_count": 3
        }
      ]
    },
    {
      "cell_type": "code",
      "metadata": {
        "colab": {
          "base_uri": "https://localhost:8080/"
        },
        "id": "GH6WZaP6Zus1",
        "outputId": "28de409c-b0fd-44f9-ffc4-d3abb7db3417"
      },
      "source": [
        "#create matrix of all independent variable\n",
        "\n",
        "x = dataset.iloc[:,:-1].values\n",
        "x"
      ],
      "execution_count": null,
      "outputs": [
        {
          "output_type": "execute_result",
          "data": {
            "text/plain": [
              "array([['10-Day Green Smoothie Cleanse', 'JJ Smith', 4.7, 17350.0, 8.0,\n",
              "        2016],\n",
              "       ['11/22/63: A Novel', 'Stephen King', 4.6, 2052.0, 22.0, 2011],\n",
              "       ['12 Rules for Life: An Antidote to Chaos', 'Jordan B. Peterson',\n",
              "        4.7, 18979.0, 15.0, 2018],\n",
              "       ...,\n",
              "       ['You Are a Badass: How to Stop Doubting Your Greatness and Start Living an Awesome Life',\n",
              "        'Jen Sincero', 4.7, 14331.0, 8.0, 2017],\n",
              "       ['You Are a Badass: How to Stop Doubting Your Greatness and Start Living an Awesome Life',\n",
              "        'Jen Sincero', 4.7, 14331.0, 8.0, 2018],\n",
              "       ['You Are a Badass: How to Stop Doubting Your Greatness and Start Living an Awesome Life',\n",
              "        'Jen Sincero', 4.7, 14331.0, 8.0, 2019]], dtype=object)"
            ]
          },
          "metadata": {
            "tags": []
          },
          "execution_count": 4
        }
      ]
    },
    {
      "cell_type": "code",
      "metadata": {
        "colab": {
          "base_uri": "https://localhost:8080/"
        },
        "id": "BpWsoXi-aPPy",
        "outputId": "0a204eaf-4178-4173-80f3-5c2918c438e2"
      },
      "source": [
        "#create a matrix  of dependent variable\n",
        "\n",
        "y = dataset.iloc[:,6].values\n",
        "y"
      ],
      "execution_count": null,
      "outputs": [
        {
          "output_type": "execute_result",
          "data": {
            "text/plain": [
              "array(['Non Fiction', 'Fiction', 'Non Fiction', 'Fiction', 'Non Fiction',\n",
              "       'Fiction', 'Fiction', 'Fiction', 'Non Fiction', 'Fiction',\n",
              "       'Fiction', 'Non Fiction', 'Non Fiction', 'Fiction', 'Non Fiction',\n",
              "       'Non Fiction', 'Non Fiction', 'Non Fiction', 'Non Fiction',\n",
              "       'Non Fiction', 'Fiction', 'Fiction', 'Fiction', 'Non Fiction',\n",
              "       'Fiction', 'Non Fiction', 'Non Fiction', 'Non Fiction',\n",
              "       'Non Fiction', 'Non Fiction', 'Non Fiction', 'Non Fiction',\n",
              "       'Non Fiction', 'Non Fiction', 'Non Fiction', 'Non Fiction',\n",
              "       'Non Fiction', 'Non Fiction', 'Fiction', 'Non Fiction', 'Fiction',\n",
              "       'Fiction', 'Fiction', 'Non Fiction', 'Non Fiction', 'Non Fiction',\n",
              "       'Fiction', 'Fiction', 'Fiction', 'Non Fiction', 'Non Fiction',\n",
              "       'Non Fiction', 'Non Fiction', 'Fiction', 'Non Fiction',\n",
              "       'Non Fiction', 'Fiction', 'Fiction', 'Non Fiction', 'Non Fiction',\n",
              "       'Fiction', 'Fiction', 'Fiction', 'Fiction', 'Fiction', 'Fiction',\n",
              "       'Fiction', 'Non Fiction', 'Non Fiction', 'Non Fiction',\n",
              "       'Non Fiction', 'Fiction', 'Fiction', 'Fiction', 'Non Fiction',\n",
              "       'Fiction', 'Fiction', 'Fiction', 'Non Fiction', 'Fiction',\n",
              "       'Fiction', 'Fiction', 'Fiction', 'Fiction', 'Fiction', 'Fiction',\n",
              "       'Fiction', 'Fiction', 'Fiction', 'Non Fiction', 'Non Fiction',\n",
              "       'Non Fiction', 'Non Fiction', 'Non Fiction', 'Non Fiction',\n",
              "       'Fiction', 'Fiction', 'Non Fiction', 'Non Fiction', 'Non Fiction',\n",
              "       'Fiction', 'Fiction', 'Fiction', 'Non Fiction', 'Fiction',\n",
              "       'Fiction', 'Fiction', 'Fiction', 'Fiction', 'Non Fiction',\n",
              "       'Non Fiction', 'Non Fiction', 'Non Fiction', 'Non Fiction',\n",
              "       'Non Fiction', 'Non Fiction', 'Fiction', 'Non Fiction', 'Fiction',\n",
              "       'Fiction', 'Fiction', 'Non Fiction', 'Non Fiction', 'Fiction',\n",
              "       'Fiction', 'Fiction', 'Fiction', 'Fiction', 'Non Fiction',\n",
              "       'Non Fiction', 'Non Fiction', 'Non Fiction', 'Fiction', 'Fiction',\n",
              "       'Non Fiction', 'Fiction', 'Fiction', 'Fiction', 'Non Fiction',\n",
              "       'Non Fiction', 'Non Fiction', 'Non Fiction', 'Non Fiction',\n",
              "       'Fiction', 'Fiction', 'Fiction', 'Fiction', 'Fiction',\n",
              "       'Non Fiction', 'Fiction', 'Non Fiction', 'Non Fiction',\n",
              "       'Non Fiction', 'Fiction', 'Fiction', 'Fiction', 'Fiction',\n",
              "       'Fiction', 'Non Fiction', 'Fiction', 'Non Fiction', 'Non Fiction',\n",
              "       'Non Fiction', 'Non Fiction', 'Non Fiction', 'Non Fiction',\n",
              "       'Non Fiction', 'Non Fiction', 'Non Fiction', 'Non Fiction',\n",
              "       'Non Fiction', 'Non Fiction', 'Non Fiction', 'Non Fiction',\n",
              "       'Non Fiction', 'Non Fiction', 'Non Fiction', 'Fiction', 'Fiction',\n",
              "       'Fiction', 'Fiction', 'Non Fiction', 'Fiction', 'Fiction',\n",
              "       'Non Fiction', 'Non Fiction', 'Non Fiction', 'Non Fiction',\n",
              "       'Non Fiction', 'Non Fiction', 'Non Fiction', 'Non Fiction',\n",
              "       'Non Fiction', 'Fiction', 'Fiction', 'Non Fiction', 'Non Fiction',\n",
              "       'Non Fiction', 'Non Fiction', 'Non Fiction', 'Non Fiction',\n",
              "       'Non Fiction', 'Non Fiction', 'Non Fiction', 'Non Fiction',\n",
              "       'Non Fiction', 'Non Fiction', 'Fiction', 'Non Fiction',\n",
              "       'Non Fiction', 'Non Fiction', 'Non Fiction', 'Non Fiction',\n",
              "       'Non Fiction', 'Non Fiction', 'Non Fiction', 'Non Fiction',\n",
              "       'Non Fiction', 'Fiction', 'Fiction', 'Fiction', 'Fiction',\n",
              "       'Non Fiction', 'Fiction', 'Fiction', 'Non Fiction', 'Non Fiction',\n",
              "       'Non Fiction', 'Non Fiction', 'Non Fiction', 'Non Fiction',\n",
              "       'Non Fiction', 'Non Fiction', 'Non Fiction', 'Non Fiction',\n",
              "       'Non Fiction', 'Fiction', 'Fiction', 'Fiction', 'Non Fiction',\n",
              "       'Non Fiction', 'Fiction', 'Non Fiction', 'Non Fiction',\n",
              "       'Non Fiction', 'Fiction', 'Fiction', 'Fiction', 'Fiction',\n",
              "       'Fiction', 'Fiction', 'Fiction', 'Fiction', 'Fiction', 'Fiction',\n",
              "       'Non Fiction', 'Non Fiction', 'Non Fiction', 'Fiction', 'Fiction',\n",
              "       'Non Fiction', 'Non Fiction', 'Non Fiction', 'Non Fiction',\n",
              "       'Fiction', 'Fiction', 'Fiction', 'Fiction', 'Fiction',\n",
              "       'Non Fiction', 'Non Fiction', 'Non Fiction', 'Non Fiction',\n",
              "       'Non Fiction', 'Non Fiction', 'Non Fiction', 'Non Fiction',\n",
              "       'Non Fiction', 'Non Fiction', 'Non Fiction', 'Non Fiction',\n",
              "       'Fiction', 'Non Fiction', 'Non Fiction', 'Non Fiction',\n",
              "       'Non Fiction', 'Fiction', 'Fiction', 'Fiction', 'Fiction',\n",
              "       'Non Fiction', 'Non Fiction', 'Fiction', 'Non Fiction',\n",
              "       'Non Fiction', 'Non Fiction', 'Non Fiction', 'Non Fiction',\n",
              "       'Non Fiction', 'Fiction', 'Non Fiction', 'Non Fiction',\n",
              "       'Non Fiction', 'Fiction', 'Non Fiction', 'Non Fiction',\n",
              "       'Non Fiction', 'Non Fiction', 'Non Fiction', 'Non Fiction',\n",
              "       'Non Fiction', 'Non Fiction', 'Non Fiction', 'Non Fiction',\n",
              "       'Non Fiction', 'Fiction', 'Non Fiction', 'Non Fiction',\n",
              "       'Non Fiction', 'Non Fiction', 'Non Fiction', 'Non Fiction',\n",
              "       'Non Fiction', 'Non Fiction', 'Non Fiction', 'Non Fiction',\n",
              "       'Non Fiction', 'Non Fiction', 'Non Fiction', 'Non Fiction',\n",
              "       'Non Fiction', 'Non Fiction', 'Non Fiction', 'Non Fiction',\n",
              "       'Non Fiction', 'Non Fiction', 'Non Fiction', 'Non Fiction',\n",
              "       'Fiction', 'Non Fiction', 'Fiction', 'Fiction', 'Non Fiction',\n",
              "       'Fiction', 'Non Fiction', 'Non Fiction', 'Non Fiction', 'Fiction',\n",
              "       'Fiction', 'Fiction', 'Fiction', 'Non Fiction', 'Non Fiction',\n",
              "       'Fiction', 'Non Fiction', 'Non Fiction', 'Non Fiction', 'Fiction',\n",
              "       'Non Fiction', 'Non Fiction', 'Fiction', 'Fiction', 'Fiction',\n",
              "       'Non Fiction', 'Fiction', 'Fiction', 'Fiction', 'Fiction',\n",
              "       'Fiction', 'Non Fiction', 'Non Fiction', 'Non Fiction',\n",
              "       'Non Fiction', 'Non Fiction', 'Non Fiction', 'Non Fiction',\n",
              "       'Non Fiction', 'Non Fiction', 'Non Fiction', 'Non Fiction',\n",
              "       'Non Fiction', 'Fiction', 'Fiction', 'Fiction', 'Fiction',\n",
              "       'Fiction', 'Fiction', 'Fiction', 'Fiction', 'Fiction', 'Fiction',\n",
              "       'Fiction', 'Fiction', 'Fiction', 'Fiction', 'Fiction', 'Fiction',\n",
              "       'Fiction', 'Fiction', 'Fiction', 'Fiction', 'Fiction', 'Fiction',\n",
              "       'Fiction', 'Fiction', 'Fiction', 'Fiction', 'Fiction', 'Fiction',\n",
              "       'Fiction', 'Fiction', 'Fiction', 'Non Fiction', 'Non Fiction',\n",
              "       'Non Fiction', 'Non Fiction', 'Non Fiction', 'Non Fiction',\n",
              "       'Fiction', 'Fiction', 'Fiction', 'Non Fiction', 'Non Fiction',\n",
              "       'Non Fiction', 'Non Fiction', 'Non Fiction', 'Non Fiction',\n",
              "       'Fiction', 'Fiction', 'Fiction', 'Non Fiction', 'Non Fiction',\n",
              "       'Fiction', 'Fiction', 'Fiction', 'Fiction', 'Non Fiction',\n",
              "       'Fiction', 'Fiction', 'Non Fiction', 'Non Fiction', 'Non Fiction',\n",
              "       'Non Fiction', 'Non Fiction', 'Non Fiction', 'Fiction',\n",
              "       'Non Fiction', 'Non Fiction', 'Non Fiction', 'Non Fiction',\n",
              "       'Non Fiction', 'Fiction', 'Fiction', 'Non Fiction', 'Fiction',\n",
              "       'Fiction', 'Fiction', 'Non Fiction', 'Fiction', 'Fiction',\n",
              "       'Fiction', 'Fiction', 'Fiction', 'Fiction', 'Non Fiction',\n",
              "       'Non Fiction', 'Non Fiction', 'Non Fiction', 'Fiction', 'Fiction',\n",
              "       'Fiction', 'Non Fiction', 'Non Fiction', 'Fiction', 'Fiction',\n",
              "       'Non Fiction', 'Fiction', 'Fiction', 'Fiction', 'Fiction',\n",
              "       'Fiction', 'Fiction', 'Fiction', 'Non Fiction', 'Non Fiction',\n",
              "       'Non Fiction', 'Fiction', 'Fiction', 'Fiction', 'Fiction',\n",
              "       'Fiction', 'Fiction', 'Non Fiction', 'Non Fiction', 'Non Fiction',\n",
              "       'Non Fiction', 'Fiction', 'Non Fiction', 'Non Fiction',\n",
              "       'Non Fiction', 'Non Fiction', 'Non Fiction', 'Non Fiction',\n",
              "       'Non Fiction', 'Non Fiction', 'Fiction', 'Fiction', 'Fiction',\n",
              "       'Fiction', 'Fiction', 'Non Fiction', 'Fiction', 'Non Fiction',\n",
              "       'Fiction', 'Fiction', 'Non Fiction', 'Non Fiction', 'Non Fiction',\n",
              "       'Non Fiction', 'Non Fiction', 'Fiction', 'Non Fiction',\n",
              "       'Non Fiction', 'Non Fiction', 'Fiction', 'Fiction', 'Non Fiction',\n",
              "       'Non Fiction', 'Fiction', 'Fiction', 'Non Fiction', 'Non Fiction',\n",
              "       'Non Fiction', 'Non Fiction', 'Fiction', 'Fiction', 'Non Fiction',\n",
              "       'Non Fiction', 'Fiction', 'Non Fiction', 'Fiction', 'Fiction',\n",
              "       'Fiction', 'Fiction', 'Fiction', 'Fiction', 'Non Fiction',\n",
              "       'Non Fiction', 'Non Fiction', 'Non Fiction'], dtype=object)"
            ]
          },
          "metadata": {
            "tags": []
          },
          "execution_count": 5
        }
      ]
    },
    {
      "cell_type": "code",
      "metadata": {
        "colab": {
          "base_uri": "https://localhost:8080/"
        },
        "id": "jlJvoUsZbwSu",
        "outputId": "182b7fd4-8fa9-4feb-c217-31f04bf7342f"
      },
      "source": [
        "#Handling missing data\n",
        "\n",
        "from sklearn.impute import SimpleImputer\n",
        "\n",
        "imputer = SimpleImputer(missing_values = 'NaN', strategy = 'mean')\n",
        "imputer = SimpleImputer().fit(x[:, 2:6]) \n",
        "x[:, 2:6] = imputer.transform(x[:, 2:6])\n",
        "print(x[0:10,:])"
      ],
      "execution_count": null,
      "outputs": [
        {
          "output_type": "stream",
          "text": [
            "[['10-Day Green Smoothie Cleanse' 'JJ Smith' 4.7 17350.0 8.0 2016.0]\n",
            " ['11/22/63: A Novel' 'Stephen King' 4.6 2052.0 22.0 2011.0]\n",
            " ['12 Rules for Life: An Antidote to Chaos' 'Jordan B. Peterson' 4.7\n",
            "  18979.0 15.0 2018.0]\n",
            " ['1984 (Signet Classics)' 'George Orwell' 4.7 21424.0 6.0 2017.0]\n",
            " ['5,000 Awesome Facts (About Everything!) (National Geographic Kids)'\n",
            "  'National Geographic Kids' 4.8 7665.0 12.0 2019.0]\n",
            " ['A Dance with Dragons (A Song of Ice and Fire)' 'George R. R. Martin'\n",
            "  4.4 12643.0 11.0 2011.0]\n",
            " ['A Game of Thrones / A Clash of Kings / A Storm of Swords / A Feast of Crows / A Dance with Dragons'\n",
            "  'George R. R. Martin' 4.7 19735.0 30.0 2014.0]\n",
            " ['A Gentleman in Moscow: A Novel' 'Amor Towles' 4.7 19699.0 15.0 2017.0]\n",
            " ['A Higher Loyalty: Truth, Lies, and Leadership' 'James Comey'\n",
            "  4.6180656934306565 5983.0 3.0 2018.0]\n",
            " ['A Man Called Ove: A Novel' 'Fredrik Backman' 4.6 23848.0 8.0 2016.0]]\n"
          ],
          "name": "stdout"
        }
      ]
    },
    {
      "cell_type": "code",
      "metadata": {
        "colab": {
          "base_uri": "https://localhost:8080/"
        },
        "id": "kiPMeoJ-gIg7",
        "outputId": "60d2f8b4-2547-42af-dcb0-584dee928646"
      },
      "source": [
        "#Encoding the categorical data\n",
        "#Encoding independent variable\n",
        "\n",
        "from sklearn.preprocessing import LabelEncoder,OneHotEncoder\n",
        "\n",
        "labelencoder_x = LabelEncoder()\n",
        "x[:,0] = labelencoder_x.fit_transform(x[:,0])\n",
        "x"
      ],
      "execution_count": null,
      "outputs": [
        {
          "output_type": "execute_result",
          "data": {
            "text/plain": [
              "array([[0, 'JJ Smith', 4.7, 17350.0, 8.0, 2016.0],\n",
              "       [1, 'Stephen King', 4.6, 2052.0, 22.0, 2011.0],\n",
              "       [2, 'Jordan B. Peterson', 4.7, 18979.0, 15.0, 2018.0],\n",
              "       ...,\n",
              "       [350, 'Jen Sincero', 4.7, 14331.0, 8.0, 2017.0],\n",
              "       [350, 'Jen Sincero', 4.7, 14331.0, 8.0, 2018.0],\n",
              "       [350, 'Jen Sincero', 4.7, 14331.0, 8.0, 2019.0]], dtype=object)"
            ]
          },
          "metadata": {
            "tags": []
          },
          "execution_count": 9
        }
      ]
    },
    {
      "cell_type": "code",
      "metadata": {
        "colab": {
          "base_uri": "https://localhost:8080/"
        },
        "id": "tj38Yiieifv2",
        "outputId": "352abaa8-cffb-494d-b0c4-3103856c87ed"
      },
      "source": [
        "#dummy Encoding\n",
        "onehotencoder = OneHotEncoder()\n",
        "x = onehotencoder.fit_transform(x).toarray()\n",
        "x"
      ],
      "execution_count": null,
      "outputs": [
        {
          "output_type": "execute_result",
          "data": {
            "text/plain": [
              "array([[1., 0., 0., ..., 0., 0., 0.],\n",
              "       [0., 1., 0., ..., 0., 0., 0.],\n",
              "       [0., 0., 1., ..., 0., 1., 0.],\n",
              "       ...,\n",
              "       [0., 0., 0., ..., 1., 0., 0.],\n",
              "       [0., 0., 0., ..., 0., 1., 0.],\n",
              "       [0., 0., 0., ..., 0., 0., 1.]])"
            ]
          },
          "metadata": {
            "tags": []
          },
          "execution_count": 10
        }
      ]
    },
    {
      "cell_type": "code",
      "metadata": {
        "colab": {
          "base_uri": "https://localhost:8080/"
        },
        "id": "_eIR1N78jItO",
        "outputId": "3e8f1a0f-b065-44d7-a1c5-8cbb3a82df42"
      },
      "source": [
        "#Encoding the dependent varaialbe\n",
        "labelencoder_y = LabelEncoder()\n",
        "y = labelencoder_y.fit_transform(y)\n",
        "y"
      ],
      "execution_count": null,
      "outputs": [
        {
          "output_type": "execute_result",
          "data": {
            "text/plain": [
              "array([1, 0, 1, 0, 1, 0, 0, 0, 1, 0, 0, 1, 1, 0, 1, 1, 1, 1, 1, 1, 0, 0,\n",
              "       0, 1, 0, 1, 1, 1, 1, 1, 1, 1, 1, 1, 1, 1, 1, 1, 0, 1, 0, 0, 0, 1,\n",
              "       1, 1, 0, 0, 0, 1, 1, 1, 1, 0, 1, 1, 0, 0, 1, 1, 0, 0, 0, 0, 0, 0,\n",
              "       0, 1, 1, 1, 1, 0, 0, 0, 1, 0, 0, 0, 1, 0, 0, 0, 0, 0, 0, 0, 0, 0,\n",
              "       0, 1, 1, 1, 1, 1, 1, 0, 0, 1, 1, 1, 0, 0, 0, 1, 0, 0, 0, 0, 0, 1,\n",
              "       1, 1, 1, 1, 1, 1, 0, 1, 0, 0, 0, 1, 1, 0, 0, 0, 0, 0, 1, 1, 1, 1,\n",
              "       0, 0, 1, 0, 0, 0, 1, 1, 1, 1, 1, 0, 0, 0, 0, 0, 1, 0, 1, 1, 1, 0,\n",
              "       0, 0, 0, 0, 1, 0, 1, 1, 1, 1, 1, 1, 1, 1, 1, 1, 1, 1, 1, 1, 1, 1,\n",
              "       1, 0, 0, 0, 0, 1, 0, 0, 1, 1, 1, 1, 1, 1, 1, 1, 1, 0, 0, 1, 1, 1,\n",
              "       1, 1, 1, 1, 1, 1, 1, 1, 1, 0, 1, 1, 1, 1, 1, 1, 1, 1, 1, 1, 0, 0,\n",
              "       0, 0, 1, 0, 0, 1, 1, 1, 1, 1, 1, 1, 1, 1, 1, 1, 0, 0, 0, 1, 1, 0,\n",
              "       1, 1, 1, 0, 0, 0, 0, 0, 0, 0, 0, 0, 0, 1, 1, 1, 0, 0, 1, 1, 1, 1,\n",
              "       0, 0, 0, 0, 0, 1, 1, 1, 1, 1, 1, 1, 1, 1, 1, 1, 1, 0, 1, 1, 1, 1,\n",
              "       0, 0, 0, 0, 1, 1, 0, 1, 1, 1, 1, 1, 1, 0, 1, 1, 1, 0, 1, 1, 1, 1,\n",
              "       1, 1, 1, 1, 1, 1, 1, 0, 1, 1, 1, 1, 1, 1, 1, 1, 1, 1, 1, 1, 1, 1,\n",
              "       1, 1, 1, 1, 1, 1, 1, 1, 0, 1, 0, 0, 1, 0, 1, 1, 1, 0, 0, 0, 0, 1,\n",
              "       1, 0, 1, 1, 1, 0, 1, 1, 0, 0, 0, 1, 0, 0, 0, 0, 0, 1, 1, 1, 1, 1,\n",
              "       1, 1, 1, 1, 1, 1, 1, 0, 0, 0, 0, 0, 0, 0, 0, 0, 0, 0, 0, 0, 0, 0,\n",
              "       0, 0, 0, 0, 0, 0, 0, 0, 0, 0, 0, 0, 0, 0, 0, 0, 1, 1, 1, 1, 1, 1,\n",
              "       0, 0, 0, 1, 1, 1, 1, 1, 1, 0, 0, 0, 1, 1, 0, 0, 0, 0, 1, 0, 0, 1,\n",
              "       1, 1, 1, 1, 1, 0, 1, 1, 1, 1, 1, 0, 0, 1, 0, 0, 0, 1, 0, 0, 0, 0,\n",
              "       0, 0, 1, 1, 1, 1, 0, 0, 0, 1, 1, 0, 0, 1, 0, 0, 0, 0, 0, 0, 0, 1,\n",
              "       1, 1, 0, 0, 0, 0, 0, 0, 1, 1, 1, 1, 0, 1, 1, 1, 1, 1, 1, 1, 1, 0,\n",
              "       0, 0, 0, 0, 1, 0, 1, 0, 0, 1, 1, 1, 1, 1, 0, 1, 1, 1, 0, 0, 1, 1,\n",
              "       0, 0, 1, 1, 1, 1, 0, 0, 1, 1, 0, 1, 0, 0, 0, 0, 0, 0, 1, 1, 1, 1])"
            ]
          },
          "metadata": {
            "tags": []
          },
          "execution_count": 11
        }
      ]
    },
    {
      "cell_type": "code",
      "metadata": {
        "colab": {
          "base_uri": "https://localhost:8080/"
        },
        "id": "JlBpLFCMjPW1",
        "outputId": "36a71ddf-a6c5-463b-b57a-aeb7ca4a27f3"
      },
      "source": [
        "#splitting the dataste into train set and test test\n",
        "\n",
        "from sklearn.model_selection import train_test_split\n",
        "x_train,x_test,y_train,y_test = train_test_split(x,y,test_size=0.2, random_state=0)\n",
        "x_train.astype(int)"
      ],
      "execution_count": null,
      "outputs": [
        {
          "output_type": "execute_result",
          "data": {
            "text/plain": [
              "array([[0, 0, 0, ..., 0, 0, 0],\n",
              "       [0, 0, 0, ..., 0, 0, 0],\n",
              "       [0, 0, 0, ..., 1, 0, 0],\n",
              "       ...,\n",
              "       [0, 0, 0, ..., 0, 0, 0],\n",
              "       [0, 0, 0, ..., 0, 0, 0],\n",
              "       [0, 0, 0, ..., 0, 0, 0]])"
            ]
          },
          "metadata": {
            "tags": []
          },
          "execution_count": 12
        }
      ]
    },
    {
      "cell_type": "code",
      "metadata": {
        "id": "crBei6GEjUc2",
        "colab": {
          "base_uri": "https://localhost:8080/"
        },
        "outputId": "f679ced6-a536-4163-e5b4-cef424ed4b11"
      },
      "source": [
        "#Feature scaling\n",
        "\n",
        "from sklearn.preprocessing import StandardScaler\n",
        "sc_x = StandardScaler()\n",
        "x_train = sc_x.fit_transform(x_train)\n",
        "x_test = sc_x.fit_transform(x_test)\n",
        "x_test"
      ],
      "execution_count": null,
      "outputs": [
        {
          "output_type": "execute_result",
          "data": {
            "text/plain": [
              "array([[ 0.        , -0.09578263,  0.        , ..., -0.21821789,\n",
              "        -0.24019223,  3.16227766],\n",
              "       [ 0.        , -0.09578263,  0.        , ..., -0.21821789,\n",
              "        -0.24019223, -0.31622777],\n",
              "       [ 0.        , -0.09578263,  0.        , ..., -0.21821789,\n",
              "        -0.24019223, -0.31622777],\n",
              "       ...,\n",
              "       [ 0.        , -0.09578263,  0.        , ..., -0.21821789,\n",
              "        -0.24019223, -0.31622777],\n",
              "       [ 0.        , -0.09578263,  0.        , ..., -0.21821789,\n",
              "        -0.24019223, -0.31622777],\n",
              "       [ 0.        , -0.09578263,  0.        , ..., -0.21821789,\n",
              "        -0.24019223, -0.31622777]])"
            ]
          },
          "metadata": {
            "tags": []
          },
          "execution_count": 13
        }
      ]
    }
  ]
}