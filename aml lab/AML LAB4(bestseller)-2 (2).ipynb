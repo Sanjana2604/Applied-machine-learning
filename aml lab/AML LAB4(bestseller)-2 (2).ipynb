{
 "cells": [
  {
   "cell_type": "code",
   "execution_count": 3,
   "metadata": {},
   "outputs": [],
   "source": [
    "#importing libraries\n",
    "import numpy as np   #data set numerical operation\n",
    "import matplotlib.pyplot as plt #plotting graphs\n",
    "import pandas as pd  #series of data"
   ]
  },
  {
   "cell_type": "code",
   "execution_count": 4,
   "metadata": {},
   "outputs": [
    {
     "data": {
      "text/html": [
       "<div>\n",
       "<style scoped>\n",
       "    .dataframe tbody tr th:only-of-type {\n",
       "        vertical-align: middle;\n",
       "    }\n",
       "\n",
       "    .dataframe tbody tr th {\n",
       "        vertical-align: top;\n",
       "    }\n",
       "\n",
       "    .dataframe thead th {\n",
       "        text-align: right;\n",
       "    }\n",
       "</style>\n",
       "<table border=\"1\" class=\"dataframe\">\n",
       "  <thead>\n",
       "    <tr style=\"text-align: right;\">\n",
       "      <th></th>\n",
       "      <th>Name</th>\n",
       "      <th>Author</th>\n",
       "      <th>User Rating</th>\n",
       "      <th>Reviews</th>\n",
       "      <th>Price</th>\n",
       "      <th>Year</th>\n",
       "      <th>Genre</th>\n",
       "    </tr>\n",
       "  </thead>\n",
       "  <tbody>\n",
       "    <tr>\n",
       "      <th>0</th>\n",
       "      <td>10-Day Green Smoothie Cleanse</td>\n",
       "      <td>JJ Smith</td>\n",
       "      <td>4.7</td>\n",
       "      <td>17350.0</td>\n",
       "      <td>8.0</td>\n",
       "      <td>2016</td>\n",
       "      <td>Non Fiction</td>\n",
       "    </tr>\n",
       "    <tr>\n",
       "      <th>1</th>\n",
       "      <td>11/22/63: A Novel</td>\n",
       "      <td>Stephen King</td>\n",
       "      <td>4.6</td>\n",
       "      <td>2052.0</td>\n",
       "      <td>22.0</td>\n",
       "      <td>2011</td>\n",
       "      <td>Fiction</td>\n",
       "    </tr>\n",
       "    <tr>\n",
       "      <th>2</th>\n",
       "      <td>12 Rules for Life: An Antidote to Chaos</td>\n",
       "      <td>Jordan B. Peterson</td>\n",
       "      <td>4.7</td>\n",
       "      <td>18979.0</td>\n",
       "      <td>15.0</td>\n",
       "      <td>2018</td>\n",
       "      <td>Non Fiction</td>\n",
       "    </tr>\n",
       "    <tr>\n",
       "      <th>3</th>\n",
       "      <td>1984 (Signet Classics)</td>\n",
       "      <td>George Orwell</td>\n",
       "      <td>4.7</td>\n",
       "      <td>21424.0</td>\n",
       "      <td>6.0</td>\n",
       "      <td>2017</td>\n",
       "      <td>Fiction</td>\n",
       "    </tr>\n",
       "    <tr>\n",
       "      <th>4</th>\n",
       "      <td>5,000 Awesome Facts (About Everything!) (Natio...</td>\n",
       "      <td>National Geographic Kids</td>\n",
       "      <td>4.8</td>\n",
       "      <td>7665.0</td>\n",
       "      <td>12.0</td>\n",
       "      <td>2019</td>\n",
       "      <td>Non Fiction</td>\n",
       "    </tr>\n",
       "    <tr>\n",
       "      <th>...</th>\n",
       "      <td>...</td>\n",
       "      <td>...</td>\n",
       "      <td>...</td>\n",
       "      <td>...</td>\n",
       "      <td>...</td>\n",
       "      <td>...</td>\n",
       "      <td>...</td>\n",
       "    </tr>\n",
       "    <tr>\n",
       "      <th>545</th>\n",
       "      <td>Wrecking Ball (Diary of a Wimpy Kid Book 14)</td>\n",
       "      <td>Jeff Kinney</td>\n",
       "      <td>4.9</td>\n",
       "      <td>9413.0</td>\n",
       "      <td>8.0</td>\n",
       "      <td>2019</td>\n",
       "      <td>Fiction</td>\n",
       "    </tr>\n",
       "    <tr>\n",
       "      <th>546</th>\n",
       "      <td>You Are a Badass: How to Stop Doubting Your Gr...</td>\n",
       "      <td>Jen Sincero</td>\n",
       "      <td>4.7</td>\n",
       "      <td>14331.0</td>\n",
       "      <td>8.0</td>\n",
       "      <td>2016</td>\n",
       "      <td>Non Fiction</td>\n",
       "    </tr>\n",
       "    <tr>\n",
       "      <th>547</th>\n",
       "      <td>You Are a Badass: How to Stop Doubting Your Gr...</td>\n",
       "      <td>Jen Sincero</td>\n",
       "      <td>4.7</td>\n",
       "      <td>14331.0</td>\n",
       "      <td>8.0</td>\n",
       "      <td>2017</td>\n",
       "      <td>Non Fiction</td>\n",
       "    </tr>\n",
       "    <tr>\n",
       "      <th>548</th>\n",
       "      <td>You Are a Badass: How to Stop Doubting Your Gr...</td>\n",
       "      <td>Jen Sincero</td>\n",
       "      <td>4.7</td>\n",
       "      <td>14331.0</td>\n",
       "      <td>8.0</td>\n",
       "      <td>2018</td>\n",
       "      <td>Non Fiction</td>\n",
       "    </tr>\n",
       "    <tr>\n",
       "      <th>549</th>\n",
       "      <td>You Are a Badass: How to Stop Doubting Your Gr...</td>\n",
       "      <td>Jen Sincero</td>\n",
       "      <td>4.7</td>\n",
       "      <td>14331.0</td>\n",
       "      <td>8.0</td>\n",
       "      <td>2019</td>\n",
       "      <td>Non Fiction</td>\n",
       "    </tr>\n",
       "  </tbody>\n",
       "</table>\n",
       "<p>550 rows × 7 columns</p>\n",
       "</div>"
      ],
      "text/plain": [
       "                                                  Name  \\\n",
       "0                        10-Day Green Smoothie Cleanse   \n",
       "1                                    11/22/63: A Novel   \n",
       "2              12 Rules for Life: An Antidote to Chaos   \n",
       "3                               1984 (Signet Classics)   \n",
       "4    5,000 Awesome Facts (About Everything!) (Natio...   \n",
       "..                                                 ...   \n",
       "545       Wrecking Ball (Diary of a Wimpy Kid Book 14)   \n",
       "546  You Are a Badass: How to Stop Doubting Your Gr...   \n",
       "547  You Are a Badass: How to Stop Doubting Your Gr...   \n",
       "548  You Are a Badass: How to Stop Doubting Your Gr...   \n",
       "549  You Are a Badass: How to Stop Doubting Your Gr...   \n",
       "\n",
       "                       Author  User Rating  Reviews  Price  Year        Genre  \n",
       "0                    JJ Smith          4.7  17350.0    8.0  2016  Non Fiction  \n",
       "1                Stephen King          4.6   2052.0   22.0  2011      Fiction  \n",
       "2          Jordan B. Peterson          4.7  18979.0   15.0  2018  Non Fiction  \n",
       "3               George Orwell          4.7  21424.0    6.0  2017      Fiction  \n",
       "4    National Geographic Kids          4.8   7665.0   12.0  2019  Non Fiction  \n",
       "..                        ...          ...      ...    ...   ...          ...  \n",
       "545               Jeff Kinney          4.9   9413.0    8.0  2019      Fiction  \n",
       "546               Jen Sincero          4.7  14331.0    8.0  2016  Non Fiction  \n",
       "547               Jen Sincero          4.7  14331.0    8.0  2017  Non Fiction  \n",
       "548               Jen Sincero          4.7  14331.0    8.0  2018  Non Fiction  \n",
       "549               Jen Sincero          4.7  14331.0    8.0  2019  Non Fiction  \n",
       "\n",
       "[550 rows x 7 columns]"
      ]
     },
     "execution_count": 4,
     "metadata": {},
     "output_type": "execute_result"
    }
   ],
   "source": [
    "#importing dataset\n",
    "dataset=pd.read_csv('bestsellers.csv')\n",
    "dataset"
   ]
  },
  {
   "cell_type": "code",
   "execution_count": 5,
   "metadata": {},
   "outputs": [
    {
     "data": {
      "text/plain": [
       "array([['10-Day Green Smoothie Cleanse', 'JJ Smith', 4.7, 17350.0, 8.0,\n",
       "        2016],\n",
       "       ['11/22/63: A Novel', 'Stephen King', 4.6, 2052.0, 22.0, 2011],\n",
       "       ['12 Rules for Life: An Antidote to Chaos', 'Jordan B. Peterson',\n",
       "        4.7, 18979.0, 15.0, 2018],\n",
       "       ...,\n",
       "       ['You Are a Badass: How to Stop Doubting Your Greatness and Start Living an Awesome Life',\n",
       "        'Jen Sincero', 4.7, 14331.0, 8.0, 2017],\n",
       "       ['You Are a Badass: How to Stop Doubting Your Greatness and Start Living an Awesome Life',\n",
       "        'Jen Sincero', 4.7, 14331.0, 8.0, 2018],\n",
       "       ['You Are a Badass: How to Stop Doubting Your Greatness and Start Living an Awesome Life',\n",
       "        'Jen Sincero', 4.7, 14331.0, 8.0, 2019]], dtype=object)"
      ]
     },
     "execution_count": 5,
     "metadata": {},
     "output_type": "execute_result"
    }
   ],
   "source": [
    "X=dataset.iloc[:,:-1].values #independent dataset\n",
    "X"
   ]
  },
  {
   "cell_type": "code",
   "execution_count": 6,
   "metadata": {},
   "outputs": [
    {
     "data": {
      "text/plain": [
       "(550, 6)"
      ]
     },
     "execution_count": 6,
     "metadata": {},
     "output_type": "execute_result"
    }
   ],
   "source": [
    "np.shape(X)"
   ]
  },
  {
   "cell_type": "code",
   "execution_count": 7,
   "metadata": {},
   "outputs": [
    {
     "data": {
      "text/plain": [
       "array(['Non Fiction', 'Fiction', 'Non Fiction', 'Fiction', 'Non Fiction',\n",
       "       'Fiction', 'Fiction', 'Fiction', 'Non Fiction', 'Fiction',\n",
       "       'Fiction', 'Non Fiction', 'Non Fiction', 'Fiction', 'Non Fiction',\n",
       "       'Non Fiction', 'Non Fiction', 'Non Fiction', 'Non Fiction',\n",
       "       'Non Fiction', 'Fiction', 'Fiction', 'Fiction', 'Non Fiction',\n",
       "       'Fiction', 'Non Fiction', 'Non Fiction', 'Non Fiction',\n",
       "       'Non Fiction', 'Non Fiction', 'Non Fiction', 'Non Fiction',\n",
       "       'Non Fiction', 'Non Fiction', 'Non Fiction', 'Non Fiction',\n",
       "       'Non Fiction', 'Non Fiction', 'Fiction', 'Non Fiction', 'Fiction',\n",
       "       'Fiction', 'Fiction', 'Non Fiction', 'Non Fiction', 'Non Fiction',\n",
       "       'Fiction', 'Fiction', 'Fiction', 'Non Fiction', 'Non Fiction',\n",
       "       'Non Fiction', 'Non Fiction', 'Fiction', 'Non Fiction',\n",
       "       'Non Fiction', 'Fiction', 'Fiction', 'Non Fiction', 'Non Fiction',\n",
       "       'Fiction', 'Fiction', 'Fiction', 'Fiction', 'Fiction', 'Fiction',\n",
       "       'Fiction', 'Non Fiction', 'Non Fiction', 'Non Fiction',\n",
       "       'Non Fiction', 'Fiction', 'Fiction', 'Fiction', 'Non Fiction',\n",
       "       'Fiction', 'Fiction', 'Fiction', 'Non Fiction', 'Fiction',\n",
       "       'Fiction', 'Fiction', 'Fiction', 'Fiction', 'Fiction', 'Fiction',\n",
       "       'Fiction', 'Fiction', 'Fiction', 'Non Fiction', 'Non Fiction',\n",
       "       'Non Fiction', 'Non Fiction', 'Non Fiction', 'Non Fiction',\n",
       "       'Fiction', 'Fiction', 'Non Fiction', 'Non Fiction', 'Non Fiction',\n",
       "       'Fiction', 'Fiction', 'Fiction', 'Non Fiction', 'Fiction',\n",
       "       'Fiction', 'Fiction', 'Fiction', 'Fiction', 'Non Fiction',\n",
       "       'Non Fiction', 'Non Fiction', 'Non Fiction', 'Non Fiction',\n",
       "       'Non Fiction', 'Non Fiction', 'Fiction', 'Non Fiction', 'Fiction',\n",
       "       'Fiction', 'Fiction', 'Non Fiction', 'Non Fiction', 'Fiction',\n",
       "       'Fiction', 'Fiction', 'Fiction', 'Fiction', 'Non Fiction',\n",
       "       'Non Fiction', 'Non Fiction', 'Non Fiction', 'Fiction', 'Fiction',\n",
       "       'Non Fiction', 'Fiction', 'Fiction', 'Fiction', 'Non Fiction',\n",
       "       'Non Fiction', 'Non Fiction', 'Non Fiction', 'Non Fiction',\n",
       "       'Fiction', 'Fiction', 'Fiction', 'Fiction', 'Fiction',\n",
       "       'Non Fiction', 'Fiction', 'Non Fiction', 'Non Fiction',\n",
       "       'Non Fiction', 'Fiction', 'Fiction', 'Fiction', 'Fiction',\n",
       "       'Fiction', 'Non Fiction', 'Fiction', 'Non Fiction', 'Non Fiction',\n",
       "       'Non Fiction', 'Non Fiction', 'Non Fiction', 'Non Fiction',\n",
       "       'Non Fiction', 'Non Fiction', 'Non Fiction', 'Non Fiction',\n",
       "       'Non Fiction', 'Non Fiction', 'Non Fiction', 'Non Fiction',\n",
       "       'Non Fiction', 'Non Fiction', 'Non Fiction', 'Fiction', 'Fiction',\n",
       "       'Fiction', 'Fiction', 'Non Fiction', 'Fiction', 'Fiction',\n",
       "       'Non Fiction', 'Non Fiction', 'Non Fiction', 'Non Fiction',\n",
       "       'Non Fiction', 'Non Fiction', 'Non Fiction', 'Non Fiction',\n",
       "       'Non Fiction', 'Fiction', 'Fiction', 'Non Fiction', 'Non Fiction',\n",
       "       'Non Fiction', 'Non Fiction', 'Non Fiction', 'Non Fiction',\n",
       "       'Non Fiction', 'Non Fiction', 'Non Fiction', 'Non Fiction',\n",
       "       'Non Fiction', 'Non Fiction', 'Fiction', 'Non Fiction',\n",
       "       'Non Fiction', 'Non Fiction', 'Non Fiction', 'Non Fiction',\n",
       "       'Non Fiction', 'Non Fiction', 'Non Fiction', 'Non Fiction',\n",
       "       'Non Fiction', 'Fiction', 'Fiction', 'Fiction', 'Fiction',\n",
       "       'Non Fiction', 'Fiction', 'Fiction', 'Non Fiction', 'Non Fiction',\n",
       "       'Non Fiction', 'Non Fiction', 'Non Fiction', 'Non Fiction',\n",
       "       'Non Fiction', 'Non Fiction', 'Non Fiction', 'Non Fiction',\n",
       "       'Non Fiction', 'Fiction', 'Fiction', 'Fiction', 'Non Fiction',\n",
       "       'Non Fiction', 'Fiction', 'Non Fiction', 'Non Fiction',\n",
       "       'Non Fiction', 'Fiction', 'Fiction', 'Fiction', 'Fiction',\n",
       "       'Fiction', 'Fiction', 'Fiction', 'Fiction', 'Fiction', 'Fiction',\n",
       "       'Non Fiction', 'Non Fiction', 'Non Fiction', 'Fiction', 'Fiction',\n",
       "       'Non Fiction', 'Non Fiction', 'Non Fiction', 'Non Fiction',\n",
       "       'Fiction', 'Fiction', 'Fiction', 'Fiction', 'Fiction',\n",
       "       'Non Fiction', 'Non Fiction', 'Non Fiction', 'Non Fiction',\n",
       "       'Non Fiction', 'Non Fiction', 'Non Fiction', 'Non Fiction',\n",
       "       'Non Fiction', 'Non Fiction', 'Non Fiction', 'Non Fiction',\n",
       "       'Fiction', 'Non Fiction', 'Non Fiction', 'Non Fiction',\n",
       "       'Non Fiction', 'Fiction', 'Fiction', 'Fiction', 'Fiction',\n",
       "       'Non Fiction', 'Non Fiction', 'Fiction', 'Non Fiction',\n",
       "       'Non Fiction', 'Non Fiction', 'Non Fiction', 'Non Fiction',\n",
       "       'Non Fiction', 'Fiction', 'Non Fiction', 'Non Fiction',\n",
       "       'Non Fiction', 'Fiction', 'Non Fiction', 'Non Fiction',\n",
       "       'Non Fiction', 'Non Fiction', 'Non Fiction', 'Non Fiction',\n",
       "       'Non Fiction', 'Non Fiction', 'Non Fiction', 'Non Fiction',\n",
       "       'Non Fiction', 'Fiction', 'Non Fiction', 'Non Fiction',\n",
       "       'Non Fiction', 'Non Fiction', 'Non Fiction', 'Non Fiction',\n",
       "       'Non Fiction', 'Non Fiction', 'Non Fiction', 'Non Fiction',\n",
       "       'Non Fiction', 'Non Fiction', 'Non Fiction', 'Non Fiction',\n",
       "       'Non Fiction', 'Non Fiction', 'Non Fiction', 'Non Fiction',\n",
       "       'Non Fiction', 'Non Fiction', 'Non Fiction', 'Non Fiction',\n",
       "       'Fiction', 'Non Fiction', 'Fiction', 'Fiction', 'Non Fiction',\n",
       "       'Fiction', 'Non Fiction', 'Non Fiction', 'Non Fiction', 'Fiction',\n",
       "       'Fiction', 'Fiction', 'Fiction', 'Non Fiction', 'Non Fiction',\n",
       "       'Fiction', 'Non Fiction', 'Non Fiction', 'Non Fiction', 'Fiction',\n",
       "       'Non Fiction', 'Non Fiction', 'Fiction', 'Fiction', 'Fiction',\n",
       "       'Non Fiction', 'Fiction', 'Fiction', 'Fiction', 'Fiction',\n",
       "       'Fiction', 'Non Fiction', 'Non Fiction', 'Non Fiction',\n",
       "       'Non Fiction', 'Non Fiction', 'Non Fiction', 'Non Fiction',\n",
       "       'Non Fiction', 'Non Fiction', 'Non Fiction', 'Non Fiction',\n",
       "       'Non Fiction', 'Fiction', 'Fiction', 'Fiction', 'Fiction',\n",
       "       'Fiction', 'Fiction', 'Fiction', 'Fiction', 'Fiction', 'Fiction',\n",
       "       'Fiction', 'Fiction', 'Fiction', 'Fiction', 'Fiction', 'Fiction',\n",
       "       'Fiction', 'Fiction', 'Fiction', 'Fiction', 'Fiction', 'Fiction',\n",
       "       'Fiction', 'Fiction', 'Fiction', 'Fiction', 'Fiction', 'Fiction',\n",
       "       'Fiction', 'Fiction', 'Fiction', 'Non Fiction', 'Non Fiction',\n",
       "       'Non Fiction', 'Non Fiction', 'Non Fiction', 'Non Fiction',\n",
       "       'Fiction', 'Fiction', 'Fiction', 'Non Fiction', 'Non Fiction',\n",
       "       'Non Fiction', 'Non Fiction', 'Non Fiction', 'Non Fiction',\n",
       "       'Fiction', 'Fiction', 'Fiction', 'Non Fiction', 'Non Fiction',\n",
       "       'Fiction', 'Fiction', 'Fiction', 'Fiction', 'Non Fiction',\n",
       "       'Fiction', 'Fiction', 'Non Fiction', 'Non Fiction', 'Non Fiction',\n",
       "       'Non Fiction', 'Non Fiction', 'Non Fiction', 'Fiction',\n",
       "       'Non Fiction', 'Non Fiction', 'Non Fiction', 'Non Fiction',\n",
       "       'Non Fiction', 'Fiction', 'Fiction', 'Non Fiction', 'Fiction',\n",
       "       'Fiction', 'Fiction', 'Non Fiction', 'Fiction', 'Fiction',\n",
       "       'Fiction', 'Fiction', 'Fiction', 'Fiction', 'Non Fiction',\n",
       "       'Non Fiction', 'Non Fiction', 'Non Fiction', 'Fiction', 'Fiction',\n",
       "       'Fiction', 'Non Fiction', 'Non Fiction', 'Fiction', 'Fiction',\n",
       "       'Non Fiction', 'Fiction', 'Fiction', 'Fiction', 'Fiction',\n",
       "       'Fiction', 'Fiction', 'Fiction', 'Non Fiction', 'Non Fiction',\n",
       "       'Non Fiction', 'Fiction', 'Fiction', 'Fiction', 'Fiction',\n",
       "       'Fiction', 'Fiction', 'Non Fiction', 'Non Fiction', 'Non Fiction',\n",
       "       'Non Fiction', 'Fiction', 'Non Fiction', 'Non Fiction',\n",
       "       'Non Fiction', 'Non Fiction', 'Non Fiction', 'Non Fiction',\n",
       "       'Non Fiction', 'Non Fiction', 'Fiction', 'Fiction', 'Fiction',\n",
       "       'Fiction', 'Fiction', 'Non Fiction', 'Fiction', 'Non Fiction',\n",
       "       'Fiction', 'Fiction', 'Non Fiction', 'Non Fiction', 'Non Fiction',\n",
       "       'Non Fiction', 'Non Fiction', 'Fiction', 'Non Fiction',\n",
       "       'Non Fiction', 'Non Fiction', 'Fiction', 'Fiction', 'Non Fiction',\n",
       "       'Non Fiction', 'Fiction', 'Fiction', 'Non Fiction', 'Non Fiction',\n",
       "       'Non Fiction', 'Non Fiction', 'Fiction', 'Fiction', 'Non Fiction',\n",
       "       'Non Fiction', 'Fiction', 'Non Fiction', 'Fiction', 'Fiction',\n",
       "       'Fiction', 'Fiction', 'Fiction', 'Fiction', 'Non Fiction',\n",
       "       'Non Fiction', 'Non Fiction', 'Non Fiction'], dtype=object)"
      ]
     },
     "execution_count": 7,
     "metadata": {},
     "output_type": "execute_result"
    }
   ],
   "source": [
    "y=dataset.iloc[:,6].values\n",
    "y"
   ]
  },
  {
   "cell_type": "code",
   "execution_count": 12,
   "metadata": {},
   "outputs": [],
   "source": [
    "\n",
    "from sklearn.preprocessing import LabelEncoder, OneHotEncoder\n",
    "\n",
    "labelencoder_y=LabelEncoder()\n",
    "y=labelencoder_X.fit_transform(y)"
   ]
  },
  {
   "cell_type": "code",
   "execution_count": 13,
   "metadata": {},
   "outputs": [
    {
     "data": {
      "text/plain": [
       "array([1, 0, 1, 0, 1, 0, 0, 0, 1, 0, 0, 1, 1, 0, 1, 1, 1, 1, 1, 1, 0, 0,\n",
       "       0, 1, 0, 1, 1, 1, 1, 1, 1, 1, 1, 1, 1, 1, 1, 1, 0, 1, 0, 0, 0, 1,\n",
       "       1, 1, 0, 0, 0, 1, 1, 1, 1, 0, 1, 1, 0, 0, 1, 1, 0, 0, 0, 0, 0, 0,\n",
       "       0, 1, 1, 1, 1, 0, 0, 0, 1, 0, 0, 0, 1, 0, 0, 0, 0, 0, 0, 0, 0, 0,\n",
       "       0, 1, 1, 1, 1, 1, 1, 0, 0, 1, 1, 1, 0, 0, 0, 1, 0, 0, 0, 0, 0, 1,\n",
       "       1, 1, 1, 1, 1, 1, 0, 1, 0, 0, 0, 1, 1, 0, 0, 0, 0, 0, 1, 1, 1, 1,\n",
       "       0, 0, 1, 0, 0, 0, 1, 1, 1, 1, 1, 0, 0, 0, 0, 0, 1, 0, 1, 1, 1, 0,\n",
       "       0, 0, 0, 0, 1, 0, 1, 1, 1, 1, 1, 1, 1, 1, 1, 1, 1, 1, 1, 1, 1, 1,\n",
       "       1, 0, 0, 0, 0, 1, 0, 0, 1, 1, 1, 1, 1, 1, 1, 1, 1, 0, 0, 1, 1, 1,\n",
       "       1, 1, 1, 1, 1, 1, 1, 1, 1, 0, 1, 1, 1, 1, 1, 1, 1, 1, 1, 1, 0, 0,\n",
       "       0, 0, 1, 0, 0, 1, 1, 1, 1, 1, 1, 1, 1, 1, 1, 1, 0, 0, 0, 1, 1, 0,\n",
       "       1, 1, 1, 0, 0, 0, 0, 0, 0, 0, 0, 0, 0, 1, 1, 1, 0, 0, 1, 1, 1, 1,\n",
       "       0, 0, 0, 0, 0, 1, 1, 1, 1, 1, 1, 1, 1, 1, 1, 1, 1, 0, 1, 1, 1, 1,\n",
       "       0, 0, 0, 0, 1, 1, 0, 1, 1, 1, 1, 1, 1, 0, 1, 1, 1, 0, 1, 1, 1, 1,\n",
       "       1, 1, 1, 1, 1, 1, 1, 0, 1, 1, 1, 1, 1, 1, 1, 1, 1, 1, 1, 1, 1, 1,\n",
       "       1, 1, 1, 1, 1, 1, 1, 1, 0, 1, 0, 0, 1, 0, 1, 1, 1, 0, 0, 0, 0, 1,\n",
       "       1, 0, 1, 1, 1, 0, 1, 1, 0, 0, 0, 1, 0, 0, 0, 0, 0, 1, 1, 1, 1, 1,\n",
       "       1, 1, 1, 1, 1, 1, 1, 0, 0, 0, 0, 0, 0, 0, 0, 0, 0, 0, 0, 0, 0, 0,\n",
       "       0, 0, 0, 0, 0, 0, 0, 0, 0, 0, 0, 0, 0, 0, 0, 0, 1, 1, 1, 1, 1, 1,\n",
       "       0, 0, 0, 1, 1, 1, 1, 1, 1, 0, 0, 0, 1, 1, 0, 0, 0, 0, 1, 0, 0, 1,\n",
       "       1, 1, 1, 1, 1, 0, 1, 1, 1, 1, 1, 0, 0, 1, 0, 0, 0, 1, 0, 0, 0, 0,\n",
       "       0, 0, 1, 1, 1, 1, 0, 0, 0, 1, 1, 0, 0, 1, 0, 0, 0, 0, 0, 0, 0, 1,\n",
       "       1, 1, 0, 0, 0, 0, 0, 0, 1, 1, 1, 1, 0, 1, 1, 1, 1, 1, 1, 1, 1, 0,\n",
       "       0, 0, 0, 0, 1, 0, 1, 0, 0, 1, 1, 1, 1, 1, 0, 1, 1, 1, 0, 0, 1, 1,\n",
       "       0, 0, 1, 1, 1, 1, 0, 0, 1, 1, 0, 1, 0, 0, 0, 0, 0, 0, 1, 1, 1, 1])"
      ]
     },
     "execution_count": 13,
     "metadata": {},
     "output_type": "execute_result"
    }
   ],
   "source": [
    "y"
   ]
  },
  {
   "cell_type": "code",
   "execution_count": 8,
   "metadata": {},
   "outputs": [],
   "source": [
    "from sklearn.impute import SimpleImputer   #adding impurity to the dataset where missing values are present\n",
    "imputer=SimpleImputer (missing_values=np.nan,strategy='most_frequent') #filling the misiing places with most frequent value of that particular coloumn(coulumnwise)\n",
    "imputer=imputer.fit(X[:,2:5])  # check only col 1& 2.in mean computation done is applied or fit to 1st and 2nd coloumns it will check for NANa in these 2 columns\n",
    "X[:,2:5]=imputer.transform(X[:,2:5]) #copies computed values to original array"
   ]
  },
  {
   "cell_type": "code",
   "execution_count": 9,
   "metadata": {},
   "outputs": [
    {
     "data": {
      "text/plain": [
       "array([['10-Day Green Smoothie Cleanse', 'JJ Smith', 4.7, 17350.0, 8.0,\n",
       "        2016],\n",
       "       ['11/22/63: A Novel', 'Stephen King', 4.6, 2052.0, 22.0, 2011],\n",
       "       ['12 Rules for Life: An Antidote to Chaos', 'Jordan B. Peterson',\n",
       "        4.7, 18979.0, 15.0, 2018],\n",
       "       ...,\n",
       "       ['You Are a Badass: How to Stop Doubting Your Greatness and Start Living an Awesome Life',\n",
       "        'Jen Sincero', 4.7, 14331.0, 8.0, 2017],\n",
       "       ['You Are a Badass: How to Stop Doubting Your Greatness and Start Living an Awesome Life',\n",
       "        'Jen Sincero', 4.7, 14331.0, 8.0, 2018],\n",
       "       ['You Are a Badass: How to Stop Doubting Your Greatness and Start Living an Awesome Life',\n",
       "        'Jen Sincero', 4.7, 14331.0, 8.0, 2019]], dtype=object)"
      ]
     },
     "execution_count": 9,
     "metadata": {},
     "output_type": "execute_result"
    }
   ],
   "source": [
    "X"
   ]
  },
  {
   "cell_type": "code",
   "execution_count": 22,
   "metadata": {},
   "outputs": [],
   "source": [
    "from sklearn.impute import SimpleImputer   #adding impurity to the dataset where missing values are present\n",
    "imputer=SimpleImputer (missing_values=np.nan,strategy='median') #filling the misiing places with median value of that particular coloumn(coulumnwise)\n",
    "imputer=imputer.fit(X[:,2:5])  # check only col 1& 2.in mean computation done is applied or fit to 1st and 2nd coloumns it will check for NANa in these 2 columns\n",
    "X[:,2:5]=imputer.transform(X[:,2:5]) #copies computed values to original array\n"
   ]
  },
  {
   "cell_type": "code",
   "execution_count": 23,
   "metadata": {},
   "outputs": [
    {
     "data": {
      "text/plain": [
       "array([['10-Day Green Smoothie Cleanse', 'JJ Smith', 4.7, 17350.0, 8.0,\n",
       "        2016],\n",
       "       ['11/22/63: A Novel', 'Stephen King', 4.6, 2052.0, 22.0, 2011],\n",
       "       ['12 Rules for Life: An Antidote to Chaos', 'Jordan B. Peterson',\n",
       "        4.7, 18979.0, 15.0, 2018],\n",
       "       ...,\n",
       "       ['You Are a Badass: How to Stop Doubting Your Greatness and Start Living an Awesome Life',\n",
       "        'Jen Sincero', 4.7, 14331.0, 8.0, 2017],\n",
       "       ['You Are a Badass: How to Stop Doubting Your Greatness and Start Living an Awesome Life',\n",
       "        'Jen Sincero', 4.7, 14331.0, 8.0, 2018],\n",
       "       ['You Are a Badass: How to Stop Doubting Your Greatness and Start Living an Awesome Life',\n",
       "        'Jen Sincero', 4.7, 14331.0, 8.0, 2019]], dtype=object)"
      ]
     },
     "execution_count": 23,
     "metadata": {},
     "output_type": "execute_result"
    }
   ],
   "source": [
    "X"
   ]
  },
  {
   "cell_type": "code",
   "execution_count": null,
   "metadata": {},
   "outputs": [],
   "source": []
  }
 ],
 "metadata": {
  "kernelspec": {
   "display_name": "Python 3",
   "language": "python",
   "name": "python3"
  },
  "language_info": {
   "codemirror_mode": {
    "name": "ipython",
    "version": 3
   },
   "file_extension": ".py",
   "mimetype": "text/x-python",
   "name": "python",
   "nbconvert_exporter": "python",
   "pygments_lexer": "ipython3",
   "version": "3.8.3"
  }
 },
 "nbformat": 4,
 "nbformat_minor": 4
}
