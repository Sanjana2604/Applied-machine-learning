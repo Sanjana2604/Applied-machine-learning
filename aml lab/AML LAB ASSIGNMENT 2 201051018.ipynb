{
 "cells": [
  {
   "cell_type": "code",
   "execution_count": 15,
   "metadata": {},
   "outputs": [
    {
     "data": {
      "text/plain": [
       "120"
      ]
     },
     "execution_count": 15,
     "metadata": {},
     "output_type": "execute_result"
    }
   ],
   "source": [
    "#Example for lamda function\n",
    "#lambda function to return the factorial of a number\n",
    "fact = lambda x: 1 if x == 1  else x * fact(x-1)\n",
    "fact(5)"
   ]
  },
  {
   "cell_type": "code",
   "execution_count": 20,
   "metadata": {},
   "outputs": [
    {
     "name": "stdout",
     "output_type": "stream",
     "text": [
      "<map object at 0x00000228F63697F0>\n"
     ]
    }
   ],
   "source": [
    "#example for map function and lambda function\n",
    "#lambda function- when you need a function for a short period of time\n",
    "num1=[4,5,6]\n",
    "num2=[5,6,7]\n",
    "result=map(lambda n1,n2:max(n1,n2),num1,num2)\n",
    "print(result)\n"
   ]
  },
  {
   "cell_type": "code",
   "execution_count": 21,
   "metadata": {},
   "outputs": [
    {
     "name": "stdout",
     "output_type": "stream",
     "text": [
      "5\n",
      "6\n",
      "7\n"
     ]
    }
   ],
   "source": [
    "for item in result:\n",
    "    print(item)"
   ]
  },
  {
   "cell_type": "code",
   "execution_count": 23,
   "metadata": {},
   "outputs": [
    {
     "name": "stdout",
     "output_type": "stream",
     "text": [
      "<map object at 0x00000228F63693A0>\n",
      "8.0\n",
      "300.0\n",
      "60.0\n",
      "600.0\n"
     ]
    }
   ],
   "source": [
    "#example for map function\n",
    "\n",
    "def simple_interest(p,t,r):\n",
    "    si=(p*t*r)/100\n",
    "    return si\n",
    "p=[200,4000,500,6000]\n",
    "t=[2,3,4,5]\n",
    "r=[2,2.5,3,2]\n",
    "result=map(simple_interest,p,t,r)\n",
    "print(result)\n",
    "for item in result:\n",
    "    print(item)"
   ]
  },
  {
   "cell_type": "code",
   "execution_count": 29,
   "metadata": {},
   "outputs": [
    {
     "name": "stdout",
     "output_type": "stream",
     "text": [
      "2+3j\n"
     ]
    }
   ],
   "source": [
    "#example for use of class and methods\n",
    "#reprsenting a complex number\n",
    "class CompNumber:\n",
    "    def __init__(self, r=0, i=0):\n",
    "        self.real = r\n",
    "        self.imag = i\n",
    "\n",
    "    def represent(self):\n",
    "        print(f'{self.real}+{self.imag}j')\n",
    "\n",
    "num1 = CompNumber(2, 3)\n",
    "\n",
    "\n",
    "num1.represent()\n",
    "\n",
    "\n"
   ]
  },
  {
   "cell_type": "code",
   "execution_count": 43,
   "metadata": {},
   "outputs": [
    {
     "name": "stdout",
     "output_type": "stream",
     "text": [
      "19 * 0 = 0\n",
      "19 * 1 = 19\n",
      "19 * 2 = 38\n",
      "19 * 3 = 57\n",
      "19 * 4 = 76\n",
      "19 * 5 = 95\n",
      "19 * 6 = 114\n",
      "19 * 7 = 133\n",
      "19 * 8 = 152\n",
      "19 * 9 = 171\n",
      "19 * 10 = 190\n"
     ]
    }
   ],
   "source": [
    "#using list prepare multiplication table\n",
    "def mult(n,j):\n",
    "    for i in range(j+1):\n",
    "        product= n*i\n",
    "        print('{} * {} = {}'.format(n,i,product))\n",
    "mult(19,10)"
   ]
  },
  {
   "cell_type": "code",
   "execution_count": 35,
   "metadata": {},
   "outputs": [
    {
     "name": "stdout",
     "output_type": "stream",
     "text": [
      "[0, 'one', 2.0, 3, 4, 5]\n",
      "[0, 'one', 2.0, 3, 4, 5]\n",
      "[0, 'one', 2.0, 3, 4, 5, 'Six']\n",
      "[0, 'one', 2.0, 3, 4, 5, 'Six']\n"
     ]
    }
   ],
   "source": [
    "#example for appending a list\n",
    "mylist = [0, 'one', 2.0, 3, 4] \n",
    "mylist.append(5)\n",
    "print(mylist)\n",
    "#type(mylist)\n",
    "newlist = mylist\n",
    "print(newlist)\n",
    "newlist.append('Six')\n",
    "print(newlist)\n",
    "print(mylist)"
   ]
  },
  {
   "cell_type": "code",
   "execution_count": null,
   "metadata": {},
   "outputs": [],
   "source": []
  }
 ],
 "metadata": {
  "kernelspec": {
   "display_name": "Python 3",
   "language": "python",
   "name": "python3"
  },
  "language_info": {
   "codemirror_mode": {
    "name": "ipython",
    "version": 3
   },
   "file_extension": ".py",
   "mimetype": "text/x-python",
   "name": "python",
   "nbconvert_exporter": "python",
   "pygments_lexer": "ipython3",
   "version": "3.8.5"
  }
 },
 "nbformat": 4,
 "nbformat_minor": 4
}
