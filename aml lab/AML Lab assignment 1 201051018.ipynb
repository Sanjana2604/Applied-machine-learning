{
 "cells": [
  {
   "cell_type": "code",
   "execution_count": 8,
   "metadata": {},
   "outputs": [
    {
     "name": "stdout",
     "output_type": "stream",
     "text": [
      "Enter Hours:35\n",
      "Enter Rate:2.75\n",
      "Gross pay 96.25\n"
     ]
    }
   ],
   "source": [
    "#1).Write a program to prompt the user for hours and rate per hour to compute gross pay.Hour = 35 & Rate = 2.75\n",
    "Hour= float(input('Enter Hours:'))\n",
    "Rate=float(input('Enter Rate:'))\n",
    "Gross_pay=Hour*Rate\n",
    "print(\"Gross pay\",Gross_pay )"
   ]
  },
  {
   "cell_type": "code",
   "execution_count": 62,
   "metadata": {},
   "outputs": [
    {
     "data": {
      "text/plain": [
       "'In the first code the print statement under else block will not be printed printed because that condition will not be encountered\\nIn second code the print statement under elif block x<10 will be printed because numbers less than 20 are obiously less than 10 and hence print statement of elif block x<20 will be printed'"
      ]
     },
     "execution_count": 62,
     "metadata": {},
     "output_type": "execute_result"
    }
   ],
   "source": [
    "#2)which of the following code will never be printed in the following code sets\n",
    "#1st code\n",
    "'''a)In the first code the print statement under else block will not be printed printed because that condition will not be encountered.'''\n",
    "#2nd code\n",
    "'''\n",
    "b)In second code the print statement under elif block x<10 will  not be printed because numbers less than 20 are obiously less than 10 and hence print statement of elif block x<20 will be printed''' "
   ]
  },
  {
   "cell_type": "code",
   "execution_count": 1,
   "metadata": {},
   "outputs": [
    {
     "name": "stdout",
     "output_type": "stream",
     "text": [
      "Enter Hours:4\n",
      "Enter Rate:e\n",
      "Enter numeric values\n"
     ]
    }
   ],
   "source": [
    "#3)Rewrite the program-1using try and except to prompt the user for hours and rate per hour to compute gross pay.(if non-numeric inputs entered, it should except).Hour = 35 & Rate = 2.75.\n",
    "try:\n",
    "    Hour= float(input('Enter Hours:'))\n",
    "    Rate=float(input('Enter Rate:'))\n",
    "except:\n",
    "    print(\"Enter numeric values\")\n",
    "else:\n",
    "    Gross_pay=Hour*Rate\n",
    "    print(\"Gross pay\",Gross_pay )"
   ]
  },
  {
   "cell_type": "code",
   "execution_count": 2,
   "metadata": {},
   "outputs": [
    {
     "name": "stdout",
     "output_type": "stream",
     "text": [
      "Enter Hours:45\n",
      "Enter Rate:32\n",
      "1600.0\n"
     ]
    }
   ],
   "source": [
    "#4)Rewrite the program-1 with time-and-a half for overtime and create a function called paycomp which takes two parameters (hours and rate per hour).Hours = 45 and rate = 10.\n",
    "def paycomp(h,r):\n",
    "    if h<=35:\n",
    "        Pay=(h*r)\n",
    "    else:\n",
    "        Pay=35*r+((h-35)*(1.5)*r)\n",
    "    return Pay\n",
    "\n",
    "hrs = input('Enter Hours:')\n",
    "h=float(hrs)\n",
    "rate = input('Enter Rate:')\n",
    "r=float(rate)\n",
    "\n",
    "pay=paycomp(h,r)\n",
    "print(pay)\n"
   ]
  },
  {
   "cell_type": "code",
   "execution_count": 3,
   "metadata": {},
   "outputs": [
    {
     "name": "stdout",
     "output_type": "stream",
     "text": [
      "dry off\n"
     ]
    }
   ],
   "source": [
    "#5)what is this code doing?\n",
    "n=5\n",
    "'''while(n>5):\n",
    "    print('lather')\n",
    "    print('rinse')\n",
    "print('dry off')'''\n",
    "\n",
    "#here n!>5 hence prints the statement dry off because the while condition will turn out to be false and control will come out of the while loop.\n",
    "\n"
   ]
  },
  {
   "cell_type": "code",
   "execution_count": 4,
   "metadata": {},
   "outputs": [
    {
     "name": "stdout",
     "output_type": "stream",
     "text": [
      "dry off\n"
     ]
    }
   ],
   "source": [
    "#6)what is the above code doing?\n",
    "n=0\n",
    "'''while(n>0):\n",
    "    print('lather')\n",
    "    print('rinse')\n",
    "print('dry off')'''\n",
    "\n",
    "#here n!>0 so the print statement oustide the while loop is printed since the condition inside the while loop is not satisfied."
   ]
  },
  {
   "cell_type": "code",
   "execution_count": 3,
   "metadata": {},
   "outputs": [
    {
     "name": "stdout",
     "output_type": "stream",
     "text": [
      "[8, 9, 21, 23, 33, 41, 54]\n",
      "The largest element in the list is : 54\n",
      "the smallest element in the list is : 8\n",
      "number of elements i the list1 is: 7\n",
      "even list: [8, 54]\n",
      "odd list:  [9, 21, 23, 33, 41]\n",
      "number of even numbers: 2\n",
      "number of odd numbers:  5\n",
      "23\n",
      "41\n",
      "Total number of prime numbers in the list are : 2\n",
      "sum of all numbers present in the list is 189 and average is 27.0:\n",
      "numbers greater than 20 [21, 23, 33, 41, 54]\n",
      "numbers less than 15 [8, 9]\n",
      "False\n"
     ]
    }
   ],
   "source": [
    "'''7).Consider the list of elements [9, 41, 23, 54, 33, 21, 8] use for loop to find\n",
    "a.Largest number\n",
    "b.Smallestnumber\n",
    "c.Number of numbers\n",
    "d.Number of odd number\n",
    "e.Number of even numbers\n",
    "f.Number of prime numbers\n",
    "g.Sum and average of numbers \n",
    "h.Filter the numbers greater than 20\n",
    "i.Filter the numbers lessthan 15\n",
    "j.Search for the number 3'''\n",
    "\n",
    "list1=[9,41,23,54,33,21,8]\n",
    "odd=[]\n",
    "even=[]\n",
    "\n",
    "count1=0\n",
    "list1.sort()\n",
    "print(list1)\n",
    "for i in list1:\n",
    "    count1+=1\n",
    "    if i%2==0:\n",
    "        even.append(i)\n",
    "    else:\n",
    "        odd.append(i)\n",
    "        \n",
    "print(\"The largest element in the list is :\",list1[len(list1)-1])\n",
    "print(\"the smallest element in the list is :\",list1[0])\n",
    "print(\"number of elements i the list1 is:\",count1)\n",
    "print(\"even list:\",even)\n",
    "print(\"odd list: \",odd)\n",
    "print(\"number of even numbers:\",len(even))\n",
    "print(\"number of odd numbers: \",len(odd))\n",
    "\n",
    "\n",
    "\n",
    "\n",
    "def count_primes_in_list(numbers):\n",
    "    primes = []\n",
    "\n",
    "    for num in numbers:\n",
    "        if num == 2:\n",
    "            primes.append(num)\n",
    "        else:\n",
    "            is_prime = True\n",
    "            for i in range(2, num):\n",
    "                if num % i == 0:\n",
    "                    is_prime = False\n",
    "                    break\n",
    "\n",
    "            if is_prime:\n",
    "                print(num)\n",
    "                primes.append(num)\n",
    "\n",
    "    print(\"Total number of prime numbers in the list are :\",len(primes))\n",
    "count_primes_in_list(list1)\n",
    "            \n",
    "    \n",
    "   \n",
    "print(\"sum of all numbers present in the list is {} and average is {}:\".format(sum(list1),(sum(list1)/len(list1))))\n",
    "\n",
    "\n",
    "a=[]\n",
    "b=[]\n",
    "for i in list1:\n",
    "    if i>20:\n",
    "        a.append(i)\n",
    "    elif i<15:\n",
    "        b.append(i)\n",
    "print(\"numbers greater than 20\",a)\n",
    "print(\"numbers less than 15\",b)\n",
    "    \n",
    "for i in list1:\n",
    "    if i==3:\n",
    "        print(True)\n",
    "\n",
    "print(False)\n",
    "    \n",
    "            \n",
    "\n",
    "\n",
    "            \n",
    "\n",
    "\n",
    "    \n",
    "    \n",
    "    "
   ]
  },
  {
   "cell_type": "code",
   "execution_count": 5,
   "metadata": {},
   "outputs": [
    {
     "name": "stdout",
     "output_type": "stream",
     "text": [
      "True\n",
      "False\n",
      "True\n",
      "True\n",
      "True\n",
      "<class 'str'>\n",
      "<class 'int'>\n",
      "After converting to integer base 2 : 18\n",
      "After converting to float : 10010.0\n"
     ]
    }
   ],
   "source": [
    "#8)Illustratethe useof type operatorand type conversion (use your own examples)\n",
    "'''type() method returns class type of the argument(object) passed as parameter. type() function is mostly used for debugging purposes. Two different types of arguments can be passed to type() function, single and three argument. If single argument type(obj) is passed, it returns the type of given object. If three arguments type(name, bases, dict) is passed, it returns a new type object.'''\n",
    "# Python3 simple code to explain \n",
    "# the type() function \n",
    "print(type([]) is list) \n",
    "  \n",
    "print(type([]) is not list) \n",
    "  \n",
    "print(type(()) is tuple) \n",
    "  \n",
    "print(type({}) is dict) \n",
    "  \n",
    "print(type({}) is not list)\n",
    "\n",
    "print(type('a'))\n",
    "print(type(2))\n",
    "\n",
    "#Python defines type conversion functions to directly convert one data type to another which is useful in day to day and competitive programming. This article is aimed at providing information about certain conversion functions.\n",
    "\n",
    "# initializing string \n",
    "s = \"10010\"\n",
    "  \n",
    "# printing string converting to int base 2 \n",
    "c = int(s,2) \n",
    "print (\"After converting to integer base 2 : \", end=\"\") \n",
    "print (c) \n",
    "  \n",
    "# printing string converting to float \n",
    "e = float(s) \n",
    "print (\"After converting to float : \", end=\"\") \n",
    "print (e) "
   ]
  },
  {
   "cell_type": "code",
   "execution_count": 6,
   "metadata": {},
   "outputs": [
    {
     "name": "stdout",
     "output_type": "stream",
     "text": [
      "Current Letter : P\n",
      "Current Letter : y\n",
      "Current Letter : t\n"
     ]
    }
   ],
   "source": [
    "#9)Illustrate the use of break and continue with your own examples\n",
    "'''The break statement in Python terminates the current loop and resumes execution at the next statement, just like the traditional break found in C.\n",
    "The most common use for break is when some external condition is triggered requiring a hasty exit from a loop. The break statement can be used in both while and for loops.'''\n",
    "for letter in 'Python':     \n",
    "    if letter == 'h':\n",
    "        break\n",
    "    print('Current Letter :', letter)"
   ]
  },
  {
   "cell_type": "code",
   "execution_count": 7,
   "metadata": {},
   "outputs": [
    {
     "name": "stdout",
     "output_type": "stream",
     "text": [
      "Current Letter : P\n",
      "Current Letter : y\n",
      "Current Letter : t\n",
      "Current Letter : o\n",
      "Current Letter : n\n"
     ]
    }
   ],
   "source": [
    "'''The continue statement in Python returns the control to the beginning of the while loop. The continue statement rejects all the remaining statements in the current iteration of the loop and moves the control back to the top of the loop.'''\n",
    "for letter in 'Python':     \n",
    "    if letter == 'h':\n",
    "        continue\n",
    "    print('Current Letter :', letter)"
   ]
  },
  {
   "cell_type": "code",
   "execution_count": null,
   "metadata": {},
   "outputs": [],
   "source": []
  }
 ],
 "metadata": {
  "kernelspec": {
   "display_name": "Python 3",
   "language": "python",
   "name": "python3"
  },
  "language_info": {
   "codemirror_mode": {
    "name": "ipython",
    "version": 3
   },
   "file_extension": ".py",
   "mimetype": "text/x-python",
   "name": "python",
   "nbconvert_exporter": "python",
   "pygments_lexer": "ipython3",
   "version": "3.8.3"
  }
 },
 "nbformat": 4,
 "nbformat_minor": 4
}
